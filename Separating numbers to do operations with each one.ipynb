{
 "cells": [
  {
   "cell_type": "markdown",
   "metadata": {},
   "source": [
    "# Separate an int value into its different numbers to multiply them.\n",
    "\n",
    "For example, the number 860007386.\n",
    "\n",
    "The verification number is calculated by doing the steps below:\n",
    "\n",
    "Multiply each digit by the numbers 41, 37, 29, 23, 19, 17, 13, 7 and 3 in that order. For example, In this case it should go like this: 8x41, 6x37, 0x29, 0x23, 0x19, 7x17, 3x13, 8x7, 6x3.\n",
    "\n",
    "Then add the product of all the operations above.\n",
    "\n",
    "Calculate the residue that you get from dividing the sum by 11.\n",
    "\n",
    "If the residue is 1 or 0 then then that is the verification code.\n",
    "\n",
    "If not then the verification code is given by substracting the residue of 11."
   ]
  },
  {
   "cell_type": "code",
   "execution_count": 1,
   "metadata": {},
   "outputs": [],
   "source": [
    "largenum = 860007386 \n",
    "nummul = [41, 37, 29, 23, 19, 17, 13, 7 , 3]"
   ]
  },
  {
   "cell_type": "code",
   "execution_count": 2,
   "metadata": {},
   "outputs": [],
   "source": [
    "str_largenum = str(largenum)"
   ]
  },
  {
   "cell_type": "code",
   "execution_count": 3,
   "metadata": {},
   "outputs": [
    {
     "data": {
      "text/plain": [
       "['860007386']"
      ]
     },
     "execution_count": 3,
     "metadata": {},
     "output_type": "execute_result"
    }
   ],
   "source": [
    "str_largenum.split()"
   ]
  },
  {
   "cell_type": "code",
   "execution_count": 4,
   "metadata": {},
   "outputs": [
    {
     "name": "stdout",
     "output_type": "stream",
     "text": [
      "['8', '6', '0', '0', '0', '7', '3', '8', '6']\n"
     ]
    }
   ],
   "source": [
    "print([str_largenum[i:i+1] for i in range(0,len(str_largenum),1)])"
   ]
  },
  {
   "cell_type": "code",
   "execution_count": 5,
   "metadata": {},
   "outputs": [],
   "source": [
    "split_str_largenum = [str_largenum[i:i+1] for i in range(0,len(str_largenum),1)]"
   ]
  },
  {
   "cell_type": "code",
   "execution_count": 6,
   "metadata": {},
   "outputs": [
    {
     "data": {
      "text/plain": [
       "[8, 6, 0, 0, 0, 7, 3, 8, 6]"
      ]
     },
     "execution_count": 6,
     "metadata": {},
     "output_type": "execute_result"
    }
   ],
   "source": [
    "[int(numstring) for numstring in split_str_largenum]"
   ]
  },
  {
   "cell_type": "code",
   "execution_count": 7,
   "metadata": {},
   "outputs": [],
   "source": [
    "integer_split_largenum = [int(numstring) for numstring in split_str_largenum]"
   ]
  },
  {
   "cell_type": "code",
   "execution_count": 8,
   "metadata": {},
   "outputs": [
    {
     "name": "stdout",
     "output_type": "stream",
     "text": [
      "[8, 6, 0, 0, 0, 7, 3, 8, 6]\n"
     ]
    }
   ],
   "source": [
    "print(integer_split_largenum)"
   ]
  },
  {
   "cell_type": "code",
   "execution_count": 9,
   "metadata": {},
   "outputs": [],
   "source": [
    "import numpy as np\n",
    "a = np.array(integer_split_largenum)\n",
    "b = np.array(nummul)\n",
    "dotproduct = np.dot(a,b)"
   ]
  },
  {
   "cell_type": "code",
   "execution_count": 10,
   "metadata": {},
   "outputs": [],
   "source": [
    "residual = dotproduct / 11"
   ]
  },
  {
   "cell_type": "code",
   "execution_count": 11,
   "metadata": {},
   "outputs": [
    {
     "name": "stdout",
     "output_type": "stream",
     "text": [
      "71.0909090909091\n"
     ]
    }
   ],
   "source": [
    "print(residual)"
   ]
  },
  {
   "cell_type": "code",
   "execution_count": 12,
   "metadata": {},
   "outputs": [
    {
     "name": "stdout",
     "output_type": "stream",
     "text": [
      "60.09090909090909\n"
     ]
    }
   ],
   "source": [
    "verification_code = residual - 11\n",
    "print(verification_code)"
   ]
  },
  {
   "cell_type": "code",
   "execution_count": null,
   "metadata": {},
   "outputs": [],
   "source": []
  }
 ],
 "metadata": {
  "kernelspec": {
   "display_name": "Python 3",
   "language": "python",
   "name": "python3"
  },
  "language_info": {
   "codemirror_mode": {
    "name": "ipython",
    "version": 3
   },
   "file_extension": ".py",
   "mimetype": "text/x-python",
   "name": "python",
   "nbconvert_exporter": "python",
   "pygments_lexer": "ipython3",
   "version": "3.8.3"
  }
 },
 "nbformat": 4,
 "nbformat_minor": 4
}
